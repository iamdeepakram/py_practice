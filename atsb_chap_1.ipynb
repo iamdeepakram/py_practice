{
  "nbformat": 4,
  "nbformat_minor": 0,
  "metadata": {
    "colab": {
      "name": "atsb_chap_1",
      "provenance": [],
      "authorship_tag": "ABX9TyOOgyxDQYtWs0Rrio+SzW39"
    },
    "kernelspec": {
      "name": "python3",
      "display_name": "Python 3"
    }
  },
  "cells": [
    {
      "cell_type": "markdown",
      "metadata": {
        "id": "Pqwl-Er7OFV0",
        "colab_type": "text"
      },
      "source": [
        "\n",
        "Chapter -1 | Python Basics\n",
        "\n",
        "Here we are going to work around the automate the boring stuff book.\n",
        "\n",
        "So we can understand the concepts and their practical approach.\n",
        "\n",
        "Practice ! Practice ! Practice\n",
        "\n"
      ]
    },
    {
      "cell_type": "markdown",
      "metadata": {
        "id": "0byhbfvuPSrV",
        "colab_type": "text"
      },
      "source": [
        "\n",
        "\n",
        "---\n",
        "\n",
        "\n",
        "\n"
      ]
    },
    {
      "cell_type": "markdown",
      "metadata": {
        "id": "4VXNrmOJPKfJ",
        "colab_type": "text"
      },
      "source": [
        "We are doing some basic math on python3"
      ]
    },
    {
      "cell_type": "code",
      "metadata": {
        "id": "zCeJPfB6N0vl",
        "colab_type": "code",
        "outputId": "1c824765-5606-482f-b120-794dc481e7f1",
        "colab": {
          "base_uri": "https://localhost:8080/",
          "height": 34
        }
      },
      "source": [
        "2 + 2"
      ],
      "execution_count": 0,
      "outputs": [
        {
          "output_type": "execute_result",
          "data": {
            "text/plain": [
              "4"
            ]
          },
          "metadata": {
            "tags": []
          },
          "execution_count": 1
        }
      ]
    },
    {
      "cell_type": "code",
      "metadata": {
        "id": "-Y22ok7hPBvS",
        "colab_type": "code",
        "outputId": "93913d9b-1610-4aa1-d0fc-a908e965da6d",
        "colab": {
          "base_uri": "https://localhost:8080/",
          "height": 34
        }
      },
      "source": [
        "2+3*6"
      ],
      "execution_count": 0,
      "outputs": [
        {
          "output_type": "execute_result",
          "data": {
            "text/plain": [
              "20"
            ]
          },
          "metadata": {
            "tags": []
          },
          "execution_count": 2
        }
      ]
    },
    {
      "cell_type": "code",
      "metadata": {
        "id": "u-L4Qua-N4A3",
        "colab_type": "code",
        "outputId": "72252720-b6d6-4d1c-cb4f-2c1daffc6073",
        "colab": {
          "base_uri": "https://localhost:8080/",
          "height": 34
        }
      },
      "source": [
        "(2+3)*6"
      ],
      "execution_count": 0,
      "outputs": [
        {
          "output_type": "execute_result",
          "data": {
            "text/plain": [
              "30"
            ]
          },
          "metadata": {
            "tags": []
          },
          "execution_count": 1
        }
      ]
    },
    {
      "cell_type": "markdown",
      "metadata": {
        "id": "lFBY8UcC-sZk",
        "colab_type": "text"
      },
      "source": [
        "######**Common Data types**\n",
        "\n",
        "Integers | -2, -1, 0 , 1, 2, 3\n",
        "\n",
        "Floating point | -1.23, -1.0 , 0.0, 0.5\n",
        "\n",
        "strings | 'abcd', \"hello world!\"\n"
      ]
    },
    {
      "cell_type": "code",
      "metadata": {
        "id": "ptrnAIkA-eMt",
        "colab_type": "code",
        "outputId": "9eca039b-f04e-4a92-96db-756dde6bd8bc",
        "colab": {
          "base_uri": "https://localhost:8080/",
          "height": 34
        }
      },
      "source": [
        "##String Concatnation\n",
        "\n",
        "'Abcd'+ 'efgh'"
      ],
      "execution_count": 0,
      "outputs": [
        {
          "output_type": "execute_result",
          "data": {
            "text/plain": [
              "'Abcdefgh'"
            ]
          },
          "metadata": {
            "tags": []
          },
          "execution_count": 2
        }
      ]
    },
    {
      "cell_type": "code",
      "metadata": {
        "id": "qPhKoq5j_3PB",
        "colab_type": "code",
        "outputId": "d42fca3b-94b5-4dc9-9ebc-79ad336e206e",
        "colab": {
          "base_uri": "https://localhost:8080/",
          "height": 34
        }
      },
      "source": [
        "# String Replication\n",
        "'helloworld_'*4"
      ],
      "execution_count": 0,
      "outputs": [
        {
          "output_type": "execute_result",
          "data": {
            "text/plain": [
              "'helloworld_helloworld_helloworld_helloworld_'"
            ]
          },
          "metadata": {
            "tags": []
          },
          "execution_count": 5
        }
      ]
    },
    {
      "cell_type": "markdown",
      "metadata": {
        "id": "0SUQhjYU_54n",
        "colab_type": "text"
      },
      "source": [
        "#####**Assignment statements**\n",
        "\n",
        "```\n",
        "# some = 42\n",
        "```\n",
        "\n",
        "\n",
        "\n"
      ]
    },
    {
      "cell_type": "code",
      "metadata": {
        "id": "DTQKah1CAZaQ",
        "colab_type": "code",
        "outputId": "7690dc3c-b955-4282-835c-19999c61a558",
        "colab": {
          "base_uri": "https://localhost:8080/",
          "height": 34
        }
      },
      "source": [
        "some = 42\n",
        "some"
      ],
      "execution_count": 0,
      "outputs": [
        {
          "output_type": "execute_result",
          "data": {
            "text/plain": [
              "42"
            ]
          },
          "metadata": {
            "tags": []
          },
          "execution_count": 7
        }
      ]
    },
    {
      "cell_type": "code",
      "metadata": {
        "id": "M0_1RVY_Asn4",
        "colab_type": "code",
        "outputId": "b5feea41-99b3-4a66-bf06-074bee721838",
        "colab": {
          "base_uri": "https://localhost:8080/",
          "height": 34
        }
      },
      "source": [
        "thing = 78\n",
        "thing"
      ],
      "execution_count": 0,
      "outputs": [
        {
          "output_type": "execute_result",
          "data": {
            "text/plain": [
              "78"
            ]
          },
          "metadata": {
            "tags": []
          },
          "execution_count": 8
        }
      ]
    },
    {
      "cell_type": "code",
      "metadata": {
        "id": "N8wkALzzAydS",
        "colab_type": "code",
        "outputId": "e8e6333e-cf94-4d9d-fe89-1033fe8e4572",
        "colab": {
          "base_uri": "https://localhost:8080/",
          "height": 34
        }
      },
      "source": [
        "some+thing"
      ],
      "execution_count": 0,
      "outputs": [
        {
          "output_type": "execute_result",
          "data": {
            "text/plain": [
              "120"
            ]
          },
          "metadata": {
            "tags": []
          },
          "execution_count": 9
        }
      ]
    },
    {
      "cell_type": "code",
      "metadata": {
        "id": "sV0XP8JkA0qz",
        "colab_type": "code",
        "outputId": "bb412325-bb10-4d67-f633-418dda660383",
        "colab": {
          "base_uri": "https://localhost:8080/",
          "height": 70
        }
      },
      "source": [
        "# print hello world ask for age --- This is comments \n",
        "print('hello world!')   # this is print function which is saying hello world\n",
        "#print statement displays the string value inside the parantheses\n",
        "print('what is your age') # print function - asking for age -  \n",
        "age = input() # input fucntion - takes value as a string - user type and press enter\n",
        "print('The age is  ' + age)\n"
      ],
      "execution_count": 0,
      "outputs": [
        {
          "output_type": "stream",
          "text": [
            "hello world!\n",
            "what is your age\n"
          ],
          "name": "stdout"
        }
      ]
    },
    {
      "cell_type": "code",
      "metadata": {
        "id": "wP0EFwjpBDa_",
        "colab_type": "code",
        "colab": {}
      },
      "source": [
        "# str() function \n",
        "\n",
        "num = 33\n",
        "type(num)\n",
        "numstr = str(num)\n",
        "type(numstr)"
      ],
      "execution_count": 0,
      "outputs": []
    },
    {
      "cell_type": "markdown",
      "metadata": {
        "id": "G3n31PRLCnwV",
        "colab_type": "text"
      },
      "source": [
        "#####Practice Questions \n",
        "\n",
        "\n"
      ]
    },
    {
      "cell_type": "markdown",
      "metadata": {
        "id": "u32PzmVcoPkC",
        "colab_type": "text"
      },
      "source": [
        "Operators\n",
        "\n",
        "*\n",
        "/\n",
        "-\n",
        "+\n"
      ]
    },
    {
      "cell_type": "markdown",
      "metadata": {
        "id": "Pi7ZJ6dTonl9",
        "colab_type": "text"
      },
      "source": [
        "**Values**\n",
        "\n",
        "'hello'\n",
        "-88.8\n"
      ]
    },
    {
      "cell_type": "markdown",
      "metadata": {
        "id": "hA2SeuRhpBkK",
        "colab_type": "text"
      },
      "source": [
        "**String** - Starts and end with quotation marks\n",
        "\n",
        "```\n",
        "'spam'\n",
        "```"
      ]
    },
    {
      "cell_type": "markdown",
      "metadata": {
        "id": "zMrfwFFApp2R",
        "colab_type": "text"
      },
      "source": [
        "**Data types**\n",
        "* integer - int\n",
        "* string - str\n",
        "* floating point - float\n",
        "* Boolean - bool\n"
      ]
    },
    {
      "cell_type": "markdown",
      "metadata": {
        "id": "qAQ9QVDcqwWr",
        "colab_type": "text"
      },
      "source": [
        "**Expressions :**\n",
        "\n",
        "It is the combinations of operators(+ - / *) and operands(integer, float)"
      ]
    },
    {
      "cell_type": "markdown",
      "metadata": {
        "id": "xL3iokXiq475",
        "colab_type": "text"
      },
      "source": [
        "**Expression vs statement**\n",
        "\n",
        "Expression : piece of code that return some value \n",
        "\n",
        "statement : assignment, conditional , loop , branch, \n",
        "            That does not return any value"
      ]
    },
    {
      "cell_type": "code",
      "metadata": {
        "id": "7i8od8ZmrlTN",
        "colab_type": "code",
        "outputId": "2e6140d8-0b40-4564-f609-bc54a2d0afba",
        "colab": {
          "base_uri": "https://localhost:8080/",
          "height": 34
        }
      },
      "source": [
        "bacon = 20\n",
        "bacon"
      ],
      "execution_count": 0,
      "outputs": [
        {
          "output_type": "execute_result",
          "data": {
            "text/plain": [
              "20"
            ]
          },
          "metadata": {
            "tags": []
          },
          "execution_count": 6
        }
      ]
    },
    {
      "cell_type": "code",
      "metadata": {
        "id": "jUHZYuYUsV2f",
        "colab_type": "code",
        "outputId": "da9087bf-2ad8-486c-9895-652a1fe11c5b",
        "colab": {
          "base_uri": "https://localhost:8080/",
          "height": 34
        }
      },
      "source": [
        "bacon + 1\n",
        "\n"
      ],
      "execution_count": 0,
      "outputs": [
        {
          "output_type": "execute_result",
          "data": {
            "text/plain": [
              "21"
            ]
          },
          "metadata": {
            "tags": []
          },
          "execution_count": 7
        }
      ]
    },
    {
      "cell_type": "code",
      "metadata": {
        "id": "mamDCBc6sX_M",
        "colab_type": "code",
        "outputId": "f1c44676-8429-41fd-ae01-1059682c73de",
        "colab": {
          "base_uri": "https://localhost:8080/",
          "height": 34
        }
      },
      "source": [
        "bacon\n"
      ],
      "execution_count": 0,
      "outputs": [
        {
          "output_type": "execute_result",
          "data": {
            "text/plain": [
              "20"
            ]
          },
          "metadata": {
            "tags": []
          },
          "execution_count": 8
        }
      ]
    },
    {
      "cell_type": "markdown",
      "metadata": {
        "id": "5A_VciYCsib7",
        "colab_type": "text"
      },
      "source": [
        "What it should evaluates too?\n",
        "\n",
        "'spam' + 'spamspam'\n",
        "\n",
        "spam * 3"
      ]
    },
    {
      "cell_type": "code",
      "metadata": {
        "id": "-tVFQ2FCtBa0",
        "colab_type": "code",
        "outputId": "5bb91c56-2475-455f-d98d-ba6dc75b0665",
        "colab": {
          "base_uri": "https://localhost:8080/",
          "height": 34
        }
      },
      "source": [
        "'spam' + 'spamspam'"
      ],
      "execution_count": 0,
      "outputs": [
        {
          "output_type": "execute_result",
          "data": {
            "text/plain": [
              "'spamspamspam'"
            ]
          },
          "metadata": {
            "tags": []
          },
          "execution_count": 9
        }
      ]
    },
    {
      "cell_type": "code",
      "metadata": {
        "id": "jeBdL68ftJlN",
        "colab_type": "code",
        "outputId": "a081d743-68c4-43a9-cd7f-23720064f2c4",
        "colab": {
          "base_uri": "https://localhost:8080/",
          "height": 34
        }
      },
      "source": [
        "'spam'*3"
      ],
      "execution_count": 0,
      "outputs": [
        {
          "output_type": "execute_result",
          "data": {
            "text/plain": [
              "'spamspamspam'"
            ]
          },
          "metadata": {
            "tags": []
          },
          "execution_count": 10
        }
      ]
    },
    {
      "cell_type": "code",
      "metadata": {
        "id": "i9-EFYREtLbT",
        "colab_type": "code",
        "colab": {}
      },
      "source": [
        ""
      ],
      "execution_count": 0,
      "outputs": []
    }
  ]
}